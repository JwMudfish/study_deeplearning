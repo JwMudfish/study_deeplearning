{
 "cells": [
  {
   "cell_type": "markdown",
   "metadata": {},
   "source": [
    "## 기본 합성곱 신경망 구현 템플릿"
   ]
  },
  {
   "cell_type": "code",
   "execution_count": 1,
   "metadata": {
    "ExecuteTime": {
     "end_time": "2020-01-31T09:39:56.053574Z",
     "start_time": "2020-01-31T09:39:54.631834Z"
    }
   },
   "outputs": [],
   "source": [
    "import tensorflow as tf\n",
    "import numpy as np"
   ]
  },
  {
   "cell_type": "markdown",
   "metadata": {},
   "source": [
    "## 하이퍼 파라미터"
   ]
  },
  {
   "cell_type": "code",
   "execution_count": 2,
   "metadata": {
    "ExecuteTime": {
     "end_time": "2020-01-31T09:40:01.192016Z",
     "start_time": "2020-01-31T09:40:01.185401Z"
    }
   },
   "outputs": [],
   "source": [
    "EPOCHS = 10"
   ]
  },
  {
   "cell_type": "markdown",
   "metadata": {},
   "source": [
    "## 모델 정의 (VGG 구조)\n",
    "- maxpool\n",
    "- sequence\n",
    "- padding\n",
    "- flatten\n",
    "- Dense"
   ]
  },
  {
   "cell_type": "code",
   "execution_count": 3,
   "metadata": {
    "ExecuteTime": {
     "end_time": "2020-01-31T09:51:49.338682Z",
     "start_time": "2020-01-31T09:51:49.327692Z"
    },
    "code_folding": []
   },
   "outputs": [],
   "source": [
    "class ConvNet(tf.keras.Model):\n",
    "    def __init__(self):\n",
    "        super(ConvNet, self).__init__()\n",
    "        \n",
    "        conv2d = tf.keras.layers.Conv2D\n",
    "        maxpool = tf.keras.layers.MaxPool2D\n",
    "        \n",
    "        self.sequence = list()  # 28 by 28 mnist\n",
    "        \n",
    "        self.sequence.append(conv2d(16, (3, 3), padding='same', activation='relu'))  # 28x28x16\n",
    "        self.sequence.append(conv2d(16, (3, 3), padding='same', activation='relu'))  # 28x28x16\n",
    "        self.sequence.append(maxpool((2,2)))  # 14x14x16\n",
    "        \n",
    "        self.sequence.append(conv2d(32, (3, 3), padding='same', activation='relu'))  # 14x14x32\n",
    "        self.sequence.append(conv2d(32, (3, 3), padding='same', activation='relu'))  # 14x14x32\n",
    "        self.sequence.append(maxpool((2,2)))  # 7x7x32\n",
    "        \n",
    "        self.sequence.append(conv2d(64, (3, 3), padding='same', activation='relu'))  # 7x7x64\n",
    "        self.sequence.append(conv2d(64, (3, 3), padding='same', activation='relu'))  # 7x7x64\n",
    "\n",
    "        self.sequence.append(tf.keras.layers.Flatten())  # 1568\n",
    "        \n",
    "        self.sequence.append(tf.keras.layers.Dense(2048, activation='relu'))\n",
    "        \n",
    "        self.sequence.append(tf.keras.layers.Dense(10, activation = 'softmax'))\n",
    "        \n",
    "    def call(self, x, training=False, mask=None):\n",
    "        for layer in self.sequence:\n",
    "            x = layer(x)\n",
    "        return x"
   ]
  },
  {
   "cell_type": "markdown",
   "metadata": {},
   "source": [
    "## 학습, 테스트 루프 정의"
   ]
  },
  {
   "cell_type": "code",
   "execution_count": 4,
   "metadata": {
    "ExecuteTime": {
     "end_time": "2020-01-31T09:51:54.548482Z",
     "start_time": "2020-01-31T09:51:54.542429Z"
    }
   },
   "outputs": [],
   "source": [
    "# Implement training loop\n",
    "@tf.function\n",
    "def train_step(model, images, labels, loss_object, optimizer, train_loss, train_accuracy):\n",
    "    with tf.GradientTape() as tape:\n",
    "        predictions = model(images)\n",
    "        loss = loss_object(labels, predictions)\n",
    "    gradients = tape.gradient(loss, model.trainable_variables)\n",
    "\n",
    "    optimizer.apply_gradients(zip(gradients, model.trainable_variables))\n",
    "    train_loss(loss)\n",
    "    train_accuracy(labels, predictions)\n",
    "\n",
    "# Implement algorithm test\n",
    "@tf.function\n",
    "def test_step(model, images, labels, loss_object, test_loss, test_accuracy):\n",
    "    predictions = model(images)\n",
    "\n",
    "    t_loss = loss_object(labels, predictions)\n",
    "    test_loss(t_loss)\n",
    "    test_accuracy(labels, predictions)"
   ]
  },
  {
   "cell_type": "markdown",
   "metadata": {},
   "source": [
    "## 데이터셋 준비\n"
   ]
  },
  {
   "cell_type": "code",
   "execution_count": 9,
   "metadata": {
    "ExecuteTime": {
     "end_time": "2020-01-31T10:00:21.473375Z",
     "start_time": "2020-01-31T10:00:21.148690Z"
    }
   },
   "outputs": [],
   "source": [
    "mnist = tf.keras.datasets.mnist\n",
    "\n",
    "(x_train, y_train),(x_test, y_test) = mnist.load_data()\n",
    "\n",
    "x_train, x_test = x_train / 255.0, x_test / 255.0\n",
    "\n",
    "# x_train : (NUM_SAMPLE, 28,28) -> (NUM_SAMPLE, 28,28,1)  채널 1 추가해줘야, CONV 에서 돌아감\n",
    "\n",
    "x_train = x_train[..., tf.newaxis].astype(np.float32)  # x_train[:,:,:] 와 동일,   astype 꼭 해줘야해!!!!\n",
    "x_test = x_test[..., tf.newaxis].astype(np.float32)  # x_train[:,:,:] 와 동일,   astype 꼭 해줘야해!!!!\n",
    "\n",
    "# tf.data.Dataset.from_tensor_slices  - 텐서로부터 데이터셋 구축... 무엇??\n",
    "train_ds = tf.data.Dataset.from_tensor_slices((x_train, y_train)).shuffle(10000).batch(32)  # 10000 크기만큼 모아서 셔플\n",
    "test_ds = tf.data.Dataset.from_tensor_slices((x_test, y_test)).batch(32)  # 테스트는 셔플 할 필요 없음"
   ]
  },
  {
   "cell_type": "markdown",
   "metadata": {},
   "source": [
    "## 학습 환경 정의\n",
    "### 모델 생성, 손실함수, 최적화 알고리즘, 평가지표 정의"
   ]
  },
  {
   "cell_type": "code",
   "execution_count": 10,
   "metadata": {
    "ExecuteTime": {
     "end_time": "2020-01-31T10:00:31.994768Z",
     "start_time": "2020-01-31T10:00:31.935788Z"
    }
   },
   "outputs": [],
   "source": [
    "# Create model\n",
    "model = ConvNet()\n",
    "\n",
    "# Define loss and optimizer\n",
    "loss_object = tf.keras.losses.SparseCategoricalCrossentropy()\n",
    "optimizer = tf.keras.optimizers.Adam()\n",
    "\n",
    "# Define performance metrics\n",
    "train_loss = tf.keras.metrics.Mean(name='train_loss')\n",
    "train_accuracy = tf.keras.metrics.SparseCategoricalAccuracy(name='train_accuracy')\n",
    "\n",
    "test_loss = tf.keras.metrics.Mean(name='test_loss')\n",
    "test_accuracy = tf.keras.metrics.SparseCategoricalAccuracy(name='test_accuracy')"
   ]
  },
  {
   "cell_type": "markdown",
   "metadata": {},
   "source": [
    "## 학습 루프 동작"
   ]
  },
  {
   "cell_type": "code",
   "execution_count": 11,
   "metadata": {
    "ExecuteTime": {
     "end_time": "2020-01-31T10:10:35.142169Z",
     "start_time": "2020-01-31T10:00:34.341037Z"
    }
   },
   "outputs": [
    {
     "name": "stdout",
     "output_type": "stream",
     "text": [
      "Epoch 1, Loss: 0.10935644060373306, Accuracy: 96.59333038330078, Test Loss: 0.04267653450369835, Test Accuracy: 98.65999603271484\n",
      "Epoch 2, Loss: 0.043379925191402435, Accuracy: 98.66832733154297, Test Loss: 0.02509813942015171, Test Accuracy: 99.20999908447266\n",
      "Epoch 3, Loss: 0.03414926305413246, Accuracy: 98.96333312988281, Test Loss: 0.06602292507886887, Test Accuracy: 97.91999816894531\n",
      "Epoch 4, Loss: 0.026941699907183647, Accuracy: 99.17666625976562, Test Loss: 0.04914308711886406, Test Accuracy: 98.83000183105469\n",
      "Epoch 5, Loss: 0.022315409034490585, Accuracy: 99.29000091552734, Test Loss: 0.029925307258963585, Test Accuracy: 99.18000030517578\n",
      "Epoch 6, Loss: 0.020313337445259094, Accuracy: 99.41500091552734, Test Loss: 0.035586971789598465, Test Accuracy: 98.91999816894531\n",
      "Epoch 7, Loss: 0.020718716084957123, Accuracy: 99.36833190917969, Test Loss: 0.053165338933467865, Test Accuracy: 98.63999938964844\n",
      "Epoch 8, Loss: 0.017238324508070946, Accuracy: 99.4766616821289, Test Loss: 0.02869107574224472, Test Accuracy: 99.12999725341797\n",
      "Epoch 9, Loss: 0.013837900944054127, Accuracy: 99.58833312988281, Test Loss: 0.04167218506336212, Test Accuracy: 98.90999603271484\n",
      "Epoch 10, Loss: 0.014699708670377731, Accuracy: 99.5616683959961, Test Loss: 0.036742787808179855, Test Accuracy: 99.1199951171875\n"
     ]
    }
   ],
   "source": [
    "for epoch in range(EPOCHS):\n",
    "    for images, labels in train_ds:\n",
    "        train_step(model, images, labels, loss_object, optimizer, train_loss, train_accuracy)\n",
    "\n",
    "    for test_images, test_labels in test_ds:\n",
    "        test_step(model, test_images, test_labels, loss_object, test_loss, test_accuracy)\n",
    "\n",
    "    template = 'Epoch {}, Loss: {}, Accuracy: {}, Test Loss: {}, Test Accuracy: {}'\n",
    "    print(template.format(epoch + 1,\n",
    "                          train_loss.result(),\n",
    "                          train_accuracy.result() * 100,\n",
    "                          test_loss.result(),\n",
    "                          test_accuracy.result() * 100))\n",
    "    train_loss.reset_states()\n",
    "    train_accuracy.reset_states()\n",
    "    test_loss.reset_states()\n",
    "    test_accuracy.reset_states()"
   ]
  },
  {
   "cell_type": "code",
   "execution_count": null,
   "metadata": {},
   "outputs": [],
   "source": []
  }
 ],
 "metadata": {
  "kernelspec": {
   "display_name": "Python 3",
   "language": "python",
   "name": "python3"
  },
  "language_info": {
   "codemirror_mode": {
    "name": "ipython",
    "version": 3
   },
   "file_extension": ".py",
   "mimetype": "text/x-python",
   "name": "python",
   "nbconvert_exporter": "python",
   "pygments_lexer": "ipython3",
   "version": "3.6.8"
  },
  "toc": {
   "base_numbering": 1,
   "nav_menu": {},
   "number_sections": true,
   "sideBar": true,
   "skip_h1_title": false,
   "title_cell": "Table of Contents",
   "title_sidebar": "Contents",
   "toc_cell": false,
   "toc_position": {},
   "toc_section_display": true,
   "toc_window_display": false
  },
  "varInspector": {
   "cols": {
    "lenName": 16,
    "lenType": 16,
    "lenVar": 40
   },
   "kernels_config": {
    "python": {
     "delete_cmd_postfix": "",
     "delete_cmd_prefix": "del ",
     "library": "var_list.py",
     "varRefreshCmd": "print(var_dic_list())"
    },
    "r": {
     "delete_cmd_postfix": ") ",
     "delete_cmd_prefix": "rm(",
     "library": "var_list.r",
     "varRefreshCmd": "cat(var_dic_list()) "
    }
   },
   "types_to_exclude": [
    "module",
    "function",
    "builtin_function_or_method",
    "instance",
    "_Feature"
   ],
   "window_display": false
  }
 },
 "nbformat": 4,
 "nbformat_minor": 2
}
