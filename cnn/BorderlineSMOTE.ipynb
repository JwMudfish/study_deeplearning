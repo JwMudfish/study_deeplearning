{
 "cells": [
  {
   "cell_type": "markdown",
   "metadata": {},
   "source": [
    "# 실전 문제 해결 (부족한 데이터셋)"
   ]
  },
  {
   "cell_type": "code",
   "execution_count": 8,
   "metadata": {
    "ExecuteTime": {
     "end_time": "2020-02-04T10:31:38.000624Z",
     "start_time": "2020-02-04T10:31:33.484938Z"
    }
   },
   "outputs": [
    {
     "name": "stdout",
     "output_type": "stream",
     "text": [
      "Requirement already satisfied: imblearn in /opt/conda/lib/python3.6/site-packages (0.0)\n",
      "Requirement already satisfied: imbalanced-learn in /opt/conda/lib/python3.6/site-packages (from imblearn) (0.5.0)\n",
      "Requirement already satisfied: numpy>=1.11 in /opt/conda/lib/python3.6/site-packages (from imbalanced-learn->imblearn) (1.16.5)\n",
      "Requirement already satisfied: scipy>=0.17 in /opt/conda/lib/python3.6/site-packages (from imbalanced-learn->imblearn) (1.4.1)\n",
      "Requirement already satisfied: scikit-learn>=0.21 in /opt/conda/lib/python3.6/site-packages (from imbalanced-learn->imblearn) (0.21.2)\n",
      "Requirement already satisfied: joblib>=0.11 in /opt/conda/lib/python3.6/site-packages (from imbalanced-learn->imblearn) (0.13.2)\n",
      "\u001b[33mWARNING: You are using pip version 19.2.3, however version 20.0.2 is available.\n",
      "You should consider upgrading via the 'pip install --upgrade pip' command.\u001b[0m\n"
     ]
    }
   ],
   "source": [
    "!pip3 install imblearn"
   ]
  },
  {
   "cell_type": "code",
   "execution_count": 11,
   "metadata": {
    "ExecuteTime": {
     "end_time": "2020-02-04T10:32:36.035228Z",
     "start_time": "2020-02-04T10:32:36.028458Z"
    }
   },
   "outputs": [],
   "source": [
    "import tensorflow as tf\n",
    "import numpy as np\n",
    "import random\n",
    "from imblearn.over_sampling import BorderlineSMOTE"
   ]
  },
  {
   "cell_type": "markdown",
   "metadata": {},
   "source": [
    "## 하이퍼 파라미터"
   ]
  },
  {
   "cell_type": "code",
   "execution_count": 6,
   "metadata": {
    "ExecuteTime": {
     "end_time": "2020-02-04T10:27:05.033953Z",
     "start_time": "2020-02-04T10:27:05.026283Z"
    }
   },
   "outputs": [],
   "source": [
    "EPOCHS = 100"
   ]
  },
  {
   "cell_type": "markdown",
   "metadata": {},
   "source": [
    "## 모델 정의"
   ]
  },
  {
   "cell_type": "code",
   "execution_count": 3,
   "metadata": {
    "ExecuteTime": {
     "end_time": "2020-02-04T10:25:46.099540Z",
     "start_time": "2020-02-04T10:25:46.092853Z"
    }
   },
   "outputs": [],
   "source": [
    "class MyModel(tf.keras.Model):\n",
    "    def __init__(self):\n",
    "        super(MyModel, self).__init__()\n",
    "        self.flatten = tf.keras.layers.Flatten()\n",
    "        self.dense1 = tf.keras.layers.Dense(1024, activation='relu')\n",
    "        self.dense2 = tf.keras.layers.Dense(1, activation='sigmoid')\n",
    "\n",
    "    def call(self, x, training=False, mask=None):\n",
    "        x = self.flatten(x)\n",
    "        x = self.dense1(x)\n",
    "        return self.dense2(x)"
   ]
  },
  {
   "cell_type": "markdown",
   "metadata": {},
   "source": [
    "## 데이터셋 준비 (불균형한 데이터셋)"
   ]
  },
  {
   "cell_type": "code",
   "execution_count": 4,
   "metadata": {
    "ExecuteTime": {
     "end_time": "2020-02-04T10:25:50.561318Z",
     "start_time": "2020-02-04T10:25:47.931226Z"
    }
   },
   "outputs": [],
   "source": [
    "cifar10 = tf.keras.datasets.cifar10  # 32 x 32 x 3\n",
    "\n",
    "(x_train, y_train), (x_test, y_test) = cifar10.load_data()\n",
    "x_train, x_test = x_train / 255.0, x_test / 255.0\n",
    " \n",
    "# TODO: 학습 데이터를 Imbalanced small dataset으로 변형하기\n",
    "x_train_small = list()\n",
    "y_train_small = list()\n",
    "\n",
    "for x, y in zip(x_train, y_train):\n",
    "    if (y==0 and random.randint(0,100) < 10) or y == 1:\n",
    "        x_train_small.append(x[:])  # 미리 flatten 해서 넣어줌\n",
    "        y_train_small.append(y)\n",
    "        \n",
    "x_test_small = list()\n",
    "y_test_small = list()\n",
    "\n",
    "for x, y in zip(x_test, y_test):\n",
    "    if y==0 or y == 1:\n",
    "        x_test_small.append(x[:])  # 미리 flatten 해서 넣어줌\n",
    "        y_test_small.append(y)\n",
    "\n",
    "x_train = np.stack(x_train_small, axis=0)\n",
    "y_train = np.stack(y_train_small, axis=0)\n",
    "\n",
    "x_test = np.stack(x_test_small, axis=0)\n",
    "y_test = np.stack(y_test_small, axis=0)\n",
    "\n",
    "\n",
    "train_ds = tf.data.Dataset.from_tensor_slices((x_train, y_train)).shuffle(10000).batch(32).prefetch(2048)\n",
    "test_ds = tf.data.Dataset.from_tensor_slices((x_test, y_test)).batch(32).prefetch(2048)"
   ]
  },
  {
   "cell_type": "markdown",
   "metadata": {},
   "source": [
    "## Keras API 모델 학습 (불균형한 데이터셋)"
   ]
  },
  {
   "cell_type": "code",
   "execution_count": 7,
   "metadata": {
    "ExecuteTime": {
     "end_time": "2020-02-04T10:31:22.229630Z",
     "start_time": "2020-02-04T10:27:15.656096Z"
    },
    "scrolled": true
   },
   "outputs": [
    {
     "name": "stderr",
     "output_type": "stream",
     "text": [
      "WARNING: Logging before flag parsing goes to stderr.\n",
      "W0204 10:27:15.889901 140234464978688 base_layer.py:1814] Layer my_model_1 is casting an input tensor from dtype float64 to the layer's dtype of float32, which is new behavior in TensorFlow 2.  The layer has dtype float32 because it's dtype defaults to floatx.\n",
      "\n",
      "If you intended to run this layer in float32, you can safely ignore this warning. If in doubt, this warning is likely only an issue if you are porting a TensorFlow 1.X model to TensorFlow 2.\n",
      "\n",
      "To change all layers to have dtype float64 by default, call `tf.keras.backend.set_floatx('float64')`. To change just this layer, pass dtype='float64' to the layer constructor. If you are the author of this layer, you can disable autocasting by passing autocast=False to the base Layer constructor.\n",
      "\n"
     ]
    },
    {
     "name": "stdout",
     "output_type": "stream",
     "text": [
      "Epoch 1/100\n",
      "172/172 [==============================] - 3s 19ms/step - loss: 0.4251 - accuracy: 0.9034 - precision: 0.9275 - recall: 0.9700 - val_loss: 0.0000e+00 - val_accuracy: 0.0000e+00 - val_precision: 0.0000e+00 - val_recall: 0.0000e+00\n",
      "Epoch 2/100\n",
      "172/172 [==============================] - 2s 13ms/step - loss: 0.2500 - accuracy: 0.9146 - precision: 0.9346 - recall: 0.9746 - val_loss: 0.5970 - val_accuracy: 0.7190 - val_precision: 0.6466 - val_recall: 0.9660\n",
      "Epoch 3/100\n",
      "172/172 [==============================] - 2s 13ms/step - loss: 0.2190 - accuracy: 0.9220 - precision: 0.9386 - recall: 0.9786 - val_loss: 1.0068 - val_accuracy: 0.6030 - val_precision: 0.5581 - val_recall: 0.9890\n",
      "Epoch 4/100\n",
      "172/172 [==============================] - 2s 13ms/step - loss: 0.2098 - accuracy: 0.9271 - precision: 0.9421 - recall: 0.9804 - val_loss: 0.6952 - val_accuracy: 0.7045 - val_precision: 0.6325 - val_recall: 0.9760\n",
      "Epoch 5/100\n",
      "172/172 [==============================] - 2s 13ms/step - loss: 0.1873 - accuracy: 0.9350 - precision: 0.9488 - recall: 0.9818 - val_loss: 0.8577 - val_accuracy: 0.6535 - val_precision: 0.5921 - val_recall: 0.9870\n",
      "Epoch 6/100\n",
      "172/172 [==============================] - 2s 13ms/step - loss: 0.1889 - accuracy: 0.9299 - precision: 0.9450 - recall: 0.9802 - val_loss: 0.7072 - val_accuracy: 0.6980 - val_precision: 0.6266 - val_recall: 0.9800\n",
      "Epoch 7/100\n",
      "172/172 [==============================] - 2s 13ms/step - loss: 0.1783 - accuracy: 0.9407 - precision: 0.9515 - recall: 0.9852 - val_loss: 1.0082 - val_accuracy: 0.6050 - val_precision: 0.5592 - val_recall: 0.9920\n",
      "Epoch 8/100\n",
      "172/172 [==============================] - 2s 14ms/step - loss: 0.1711 - accuracy: 0.9399 - precision: 0.9508 - recall: 0.9852 - val_loss: 0.7080 - val_accuracy: 0.6985 - val_precision: 0.6268 - val_recall: 0.9810\n",
      "Epoch 9/100\n",
      "172/172 [==============================] - 2s 14ms/step - loss: 0.1720 - accuracy: 0.9388 - precision: 0.9525 - recall: 0.9820 - val_loss: 0.5336 - val_accuracy: 0.7660 - val_precision: 0.6892 - val_recall: 0.9690\n",
      "Epoch 10/100\n",
      "172/172 [==============================] - 2s 14ms/step - loss: 0.1627 - accuracy: 0.9414 - precision: 0.9523 - recall: 0.9852 - val_loss: 0.8023 - val_accuracy: 0.6895 - val_precision: 0.6187 - val_recall: 0.9880\n",
      "Epoch 11/100\n",
      "172/172 [==============================] - 2s 13ms/step - loss: 0.1615 - accuracy: 0.9425 - precision: 0.9549 - recall: 0.9834 - val_loss: 1.2617 - val_accuracy: 0.5915 - val_precision: 0.5506 - val_recall: 0.9960\n",
      "Epoch 12/100\n",
      "172/172 [==============================] - 2s 13ms/step - loss: 0.1538 - accuracy: 0.9452 - precision: 0.9567 - recall: 0.9846 - val_loss: 0.8579 - val_accuracy: 0.6680 - val_precision: 0.6026 - val_recall: 0.9870\n",
      "Epoch 13/100\n",
      "172/172 [==============================] - 2s 13ms/step - loss: 0.1575 - accuracy: 0.9438 - precision: 0.9557 - recall: 0.9840 - val_loss: 0.6322 - val_accuracy: 0.7550 - val_precision: 0.6761 - val_recall: 0.9790\n",
      "Epoch 14/100\n",
      "172/172 [==============================] - 2s 13ms/step - loss: 0.1492 - accuracy: 0.9456 - precision: 0.9565 - recall: 0.9852 - val_loss: 0.4426 - val_accuracy: 0.8115 - val_precision: 0.7451 - val_recall: 0.9470\n",
      "Epoch 15/100\n",
      "172/172 [==============================] - 2s 13ms/step - loss: 0.1488 - accuracy: 0.9483 - precision: 0.9591 - recall: 0.9854 - val_loss: 0.5034 - val_accuracy: 0.8085 - val_precision: 0.7375 - val_recall: 0.9580\n",
      "Epoch 16/100\n",
      "172/172 [==============================] - 2s 13ms/step - loss: 0.1371 - accuracy: 0.9494 - precision: 0.9610 - recall: 0.9846 - val_loss: 0.4845 - val_accuracy: 0.8135 - val_precision: 0.7421 - val_recall: 0.9610\n",
      "Epoch 17/100\n",
      "172/172 [==============================] - 2s 13ms/step - loss: 0.1400 - accuracy: 0.9481 - precision: 0.9589 - recall: 0.9854 - val_loss: 0.4352 - val_accuracy: 0.8325 - val_precision: 0.7737 - val_recall: 0.9400\n",
      "Epoch 18/100\n",
      "172/172 [==============================] - 2s 14ms/step - loss: 0.1298 - accuracy: 0.9525 - precision: 0.9618 - recall: 0.9872 - val_loss: 0.8519 - val_accuracy: 0.6920 - val_precision: 0.6203 - val_recall: 0.9900\n",
      "Epoch 19/100\n",
      "172/172 [==============================] - 3s 15ms/step - loss: 0.1310 - accuracy: 0.9514 - precision: 0.9607 - recall: 0.9872 - val_loss: 0.4367 - val_accuracy: 0.8365 - val_precision: 0.7793 - val_recall: 0.9390\n",
      "Epoch 20/100\n",
      "172/172 [==============================] - 3s 15ms/step - loss: 0.1345 - accuracy: 0.9518 - precision: 0.9634 - recall: 0.9846 - val_loss: 0.5465 - val_accuracy: 0.7960 - val_precision: 0.7196 - val_recall: 0.9700\n",
      "Epoch 21/100\n",
      "172/172 [==============================] - 3s 15ms/step - loss: 0.1266 - accuracy: 0.9522 - precision: 0.9629 - recall: 0.9856 - val_loss: 0.6114 - val_accuracy: 0.7865 - val_precision: 0.7090 - val_recall: 0.9720\n",
      "Epoch 22/100\n",
      "172/172 [==============================] - 3s 15ms/step - loss: 0.1267 - accuracy: 0.9527 - precision: 0.9649 - recall: 0.9840 - val_loss: 0.6342 - val_accuracy: 0.7615 - val_precision: 0.6827 - val_recall: 0.9770\n",
      "Epoch 23/100\n",
      "172/172 [==============================] - 3s 15ms/step - loss: 0.1134 - accuracy: 0.9591 - precision: 0.9679 - recall: 0.9880 - val_loss: 0.5878 - val_accuracy: 0.7755 - val_precision: 0.6955 - val_recall: 0.9800\n",
      "Epoch 24/100\n",
      "172/172 [==============================] - 3s 15ms/step - loss: 0.1072 - accuracy: 0.9593 - precision: 0.9692 - recall: 0.9868 - val_loss: 0.4240 - val_accuracy: 0.8375 - val_precision: 0.7853 - val_recall: 0.9290\n",
      "Epoch 25/100\n",
      "172/172 [==============================] - 3s 15ms/step - loss: 0.1117 - accuracy: 0.9576 - precision: 0.9689 - recall: 0.9852 - val_loss: 0.6380 - val_accuracy: 0.7855 - val_precision: 0.7058 - val_recall: 0.9790\n",
      "Epoch 26/100\n",
      "172/172 [==============================] - 3s 15ms/step - loss: 0.0977 - accuracy: 0.9628 - precision: 0.9711 - recall: 0.9886 - val_loss: 0.6505 - val_accuracy: 0.7700 - val_precision: 0.6912 - val_recall: 0.9760\n",
      "Epoch 27/100\n",
      "172/172 [==============================] - 3s 15ms/step - loss: 0.1000 - accuracy: 0.9635 - precision: 0.9715 - recall: 0.9890 - val_loss: 0.6068 - val_accuracy: 0.7955 - val_precision: 0.7162 - val_recall: 0.9790\n",
      "Epoch 28/100\n",
      "172/172 [==============================] - 3s 15ms/step - loss: 0.0929 - accuracy: 0.9655 - precision: 0.9744 - recall: 0.9882 - val_loss: 0.4596 - val_accuracy: 0.8375 - val_precision: 0.7769 - val_recall: 0.9470\n",
      "Epoch 29/100\n",
      "172/172 [==============================] - 3s 15ms/step - loss: 0.0966 - accuracy: 0.9638 - precision: 0.9728 - recall: 0.9880 - val_loss: 0.9804 - val_accuracy: 0.7050 - val_precision: 0.6306 - val_recall: 0.9900\n",
      "Epoch 30/100\n",
      "172/172 [==============================] - 3s 15ms/step - loss: 0.0945 - accuracy: 0.9642 - precision: 0.9726 - recall: 0.9886 - val_loss: 0.5624 - val_accuracy: 0.8150 - val_precision: 0.7397 - val_recall: 0.9720\n",
      "Epoch 31/100\n",
      "172/172 [==============================] - 3s 15ms/step - loss: 0.1006 - accuracy: 0.9631 - precision: 0.9724 - recall: 0.9876 - val_loss: 0.7361 - val_accuracy: 0.7565 - val_precision: 0.6758 - val_recall: 0.9860\n",
      "Epoch 32/100\n",
      "172/172 [==============================] - 3s 15ms/step - loss: 0.0874 - accuracy: 0.9655 - precision: 0.9746 - recall: 0.9880 - val_loss: 0.8728 - val_accuracy: 0.7380 - val_precision: 0.6587 - val_recall: 0.9880\n",
      "Epoch 33/100\n",
      "172/172 [==============================] - 3s 15ms/step - loss: 0.0839 - accuracy: 0.9651 - precision: 0.9747 - recall: 0.9874 - val_loss: 0.6427 - val_accuracy: 0.7995 - val_precision: 0.7204 - val_recall: 0.9790\n",
      "Epoch 34/100\n",
      "172/172 [==============================] - 3s 15ms/step - loss: 0.0865 - accuracy: 0.9670 - precision: 0.9765 - recall: 0.9876 - val_loss: 0.6591 - val_accuracy: 0.7955 - val_precision: 0.7146 - val_recall: 0.9840\n",
      "Epoch 35/100\n",
      "172/172 [==============================] - 3s 15ms/step - loss: 0.0819 - accuracy: 0.9677 - precision: 0.9769 - recall: 0.9880 - val_loss: 1.1487 - val_accuracy: 0.6630 - val_precision: 0.5981 - val_recall: 0.9940\n",
      "Epoch 36/100\n",
      "172/172 [==============================] - 3s 15ms/step - loss: 0.0733 - accuracy: 0.9710 - precision: 0.9781 - recall: 0.9904 - val_loss: 0.8018 - val_accuracy: 0.7820 - val_precision: 0.7003 - val_recall: 0.9860\n",
      "Epoch 37/100\n"
     ]
    },
    {
     "name": "stdout",
     "output_type": "stream",
     "text": [
      "172/172 [==============================] - 3s 15ms/step - loss: 0.0786 - accuracy: 0.9691 - precision: 0.9771 - recall: 0.9894 - val_loss: 0.7309 - val_accuracy: 0.7950 - val_precision: 0.7156 - val_recall: 0.9790\n",
      "Epoch 38/100\n",
      "172/172 [==============================] - 2s 15ms/step - loss: 0.0743 - accuracy: 0.9712 - precision: 0.9796 - recall: 0.9890 - val_loss: 0.6228 - val_accuracy: 0.8190 - val_precision: 0.7450 - val_recall: 0.9700\n",
      "Epoch 39/100\n",
      "172/172 [==============================] - 2s 14ms/step - loss: 0.0707 - accuracy: 0.9715 - precision: 0.9790 - recall: 0.9900 - val_loss: 0.4348 - val_accuracy: 0.8605 - val_precision: 0.8347 - val_recall: 0.8990\n",
      "Epoch 40/100\n",
      "172/172 [==============================] - 3s 15ms/step - loss: 0.0835 - accuracy: 0.9651 - precision: 0.9776 - recall: 0.9844 - val_loss: 0.6516 - val_accuracy: 0.8060 - val_precision: 0.7290 - val_recall: 0.9740\n",
      "Epoch 41/100\n",
      "172/172 [==============================] - 3s 15ms/step - loss: 0.0744 - accuracy: 0.9706 - precision: 0.9783 - recall: 0.9898 - val_loss: 0.9268 - val_accuracy: 0.7490 - val_precision: 0.6687 - val_recall: 0.9870\n",
      "Epoch 42/100\n",
      "172/172 [==============================] - 3s 15ms/step - loss: 0.0629 - accuracy: 0.9775 - precision: 0.9849 - recall: 0.9906 - val_loss: 0.7889 - val_accuracy: 0.7875 - val_precision: 0.7076 - val_recall: 0.9800\n",
      "Epoch 43/100\n",
      "172/172 [==============================] - 3s 15ms/step - loss: 0.0668 - accuracy: 0.9748 - precision: 0.9810 - recall: 0.9916 - val_loss: 0.6824 - val_accuracy: 0.8025 - val_precision: 0.7259 - val_recall: 0.9720\n",
      "Epoch 44/100\n",
      "172/172 [==============================] - 3s 15ms/step - loss: 0.0579 - accuracy: 0.9766 - precision: 0.9849 - recall: 0.9896 - val_loss: 1.2762 - val_accuracy: 0.6980 - val_precision: 0.6253 - val_recall: 0.9880\n",
      "Epoch 45/100\n",
      "172/172 [==============================] - 3s 15ms/step - loss: 0.0545 - accuracy: 0.9810 - precision: 0.9865 - recall: 0.9928 - val_loss: 1.5087 - val_accuracy: 0.6470 - val_precision: 0.5869 - val_recall: 0.9930\n",
      "Epoch 46/100\n",
      "172/172 [==============================] - 3s 15ms/step - loss: 0.0628 - accuracy: 0.9757 - precision: 0.9831 - recall: 0.9904 - val_loss: 0.8371 - val_accuracy: 0.7850 - val_precision: 0.7044 - val_recall: 0.9820\n",
      "Epoch 47/100\n",
      "172/172 [==============================] - 3s 15ms/step - loss: 0.0612 - accuracy: 0.9748 - precision: 0.9816 - recall: 0.9910 - val_loss: 0.5045 - val_accuracy: 0.8525 - val_precision: 0.7980 - val_recall: 0.9440\n",
      "Epoch 48/100\n",
      "172/172 [==============================] - 3s 15ms/step - loss: 0.0582 - accuracy: 0.9766 - precision: 0.9851 - recall: 0.9894 - val_loss: 0.9665 - val_accuracy: 0.7695 - val_precision: 0.6894 - val_recall: 0.9810\n",
      "Epoch 49/100\n",
      "172/172 [==============================] - 3s 15ms/step - loss: 0.0535 - accuracy: 0.9775 - precision: 0.9847 - recall: 0.9908 - val_loss: 0.7313 - val_accuracy: 0.8170 - val_precision: 0.7405 - val_recall: 0.9760\n",
      "Epoch 50/100\n",
      "172/172 [==============================] - 2s 14ms/step - loss: 0.0497 - accuracy: 0.9836 - precision: 0.9887 - recall: 0.9934 - val_loss: 0.5675 - val_accuracy: 0.8530 - val_precision: 0.7981 - val_recall: 0.9450\n",
      "Epoch 51/100\n",
      "172/172 [==============================] - 3s 15ms/step - loss: 0.0471 - accuracy: 0.9832 - precision: 0.9888 - recall: 0.9928 - val_loss: 0.5604 - val_accuracy: 0.8400 - val_precision: 0.7778 - val_recall: 0.9520\n",
      "Epoch 52/100\n",
      "172/172 [==============================] - 3s 15ms/step - loss: 0.0448 - accuracy: 0.9819 - precision: 0.9871 - recall: 0.9932 - val_loss: 0.9683 - val_accuracy: 0.7895 - val_precision: 0.7112 - val_recall: 0.9750\n",
      "Epoch 53/100\n",
      "172/172 [==============================] - 2s 14ms/step - loss: 0.0526 - accuracy: 0.9805 - precision: 0.9873 - recall: 0.9914 - val_loss: 0.7242 - val_accuracy: 0.8170 - val_precision: 0.7431 - val_recall: 0.9690\n",
      "Epoch 54/100\n",
      "172/172 [==============================] - 3s 15ms/step - loss: 0.0418 - accuracy: 0.9847 - precision: 0.9893 - recall: 0.9940 - val_loss: 0.9615 - val_accuracy: 0.7750 - val_precision: 0.6945 - val_recall: 0.9820\n",
      "Epoch 55/100\n",
      "172/172 [==============================] - 3s 15ms/step - loss: 0.0358 - accuracy: 0.9878 - precision: 0.9912 - recall: 0.9954 - val_loss: 0.9178 - val_accuracy: 0.8020 - val_precision: 0.7224 - val_recall: 0.9810\n",
      "Epoch 56/100\n",
      "172/172 [==============================] - 3s 15ms/step - loss: 0.0480 - accuracy: 0.9827 - precision: 0.9881 - recall: 0.9930 - val_loss: 0.8825 - val_accuracy: 0.8080 - val_precision: 0.7312 - val_recall: 0.9740\n",
      "Epoch 57/100\n",
      "172/172 [==============================] - 3s 15ms/step - loss: 0.0376 - accuracy: 0.9859 - precision: 0.9900 - recall: 0.9946 - val_loss: 0.7444 - val_accuracy: 0.8255 - val_precision: 0.7557 - val_recall: 0.9620\n",
      "Epoch 58/100\n",
      "172/172 [==============================] - 3s 15ms/step - loss: 0.0426 - accuracy: 0.9848 - precision: 0.9900 - recall: 0.9934 - val_loss: 1.1011 - val_accuracy: 0.7810 - val_precision: 0.7007 - val_recall: 0.9810\n",
      "Epoch 59/100\n",
      "172/172 [==============================] - 3s 15ms/step - loss: 0.0490 - accuracy: 0.9823 - precision: 0.9890 - recall: 0.9916 - val_loss: 0.7289 - val_accuracy: 0.8380 - val_precision: 0.7713 - val_recall: 0.9610\n",
      "Epoch 60/100\n",
      "172/172 [==============================] - 3s 15ms/step - loss: 0.0398 - accuracy: 0.9852 - precision: 0.9902 - recall: 0.9936 - val_loss: 0.8890 - val_accuracy: 0.8095 - val_precision: 0.7311 - val_recall: 0.9790\n",
      "Epoch 61/100\n",
      "172/172 [==============================] - 3s 15ms/step - loss: 0.0310 - accuracy: 0.9881 - precision: 0.9916 - recall: 0.9954 - val_loss: 1.6056 - val_accuracy: 0.7070 - val_precision: 0.6329 - val_recall: 0.9860\n",
      "Epoch 62/100\n",
      "172/172 [==============================] - 3s 15ms/step - loss: 0.0394 - accuracy: 0.9847 - precision: 0.9906 - recall: 0.9926 - val_loss: 1.6094 - val_accuracy: 0.7185 - val_precision: 0.6423 - val_recall: 0.9860\n",
      "Epoch 63/100\n",
      "172/172 [==============================] - 3s 15ms/step - loss: 0.0390 - accuracy: 0.9839 - precision: 0.9894 - recall: 0.9930 - val_loss: 1.1297 - val_accuracy: 0.7795 - val_precision: 0.7001 - val_recall: 0.9780\n",
      "Epoch 64/100\n",
      "172/172 [==============================] - 3s 15ms/step - loss: 0.0312 - accuracy: 0.9887 - precision: 0.9922 - recall: 0.9954 - val_loss: 0.9196 - val_accuracy: 0.8110 - val_precision: 0.7335 - val_recall: 0.9770\n",
      "Epoch 65/100\n",
      "172/172 [==============================] - 3s 15ms/step - loss: 0.0308 - accuracy: 0.9896 - precision: 0.9926 - recall: 0.9960 - val_loss: 0.8295 - val_accuracy: 0.8300 - val_precision: 0.7603 - val_recall: 0.9640\n",
      "Epoch 66/100\n",
      "172/172 [==============================] - 3s 15ms/step - loss: 0.0348 - accuracy: 0.9865 - precision: 0.9910 - recall: 0.9942 - val_loss: 0.8765 - val_accuracy: 0.8205 - val_precision: 0.7475 - val_recall: 0.9680\n",
      "Epoch 67/100\n",
      "172/172 [==============================] - 3s 15ms/step - loss: 0.0485 - accuracy: 0.9817 - precision: 0.9882 - recall: 0.9918 - val_loss: 1.1403 - val_accuracy: 0.7820 - val_precision: 0.7032 - val_recall: 0.9760\n",
      "Epoch 68/100\n",
      "172/172 [==============================] - 3s 15ms/step - loss: 0.0337 - accuracy: 0.9848 - precision: 0.9894 - recall: 0.9940 - val_loss: 0.7404 - val_accuracy: 0.8415 - val_precision: 0.7774 - val_recall: 0.9570\n",
      "Epoch 69/100\n",
      "172/172 [==============================] - 3s 15ms/step - loss: 0.0238 - accuracy: 0.9927 - precision: 0.9952 - recall: 0.9968 - val_loss: 1.2770 - val_accuracy: 0.7715 - val_precision: 0.6916 - val_recall: 0.9800\n",
      "Epoch 70/100\n",
      "172/172 [==============================] - 3s 15ms/step - loss: 0.0331 - accuracy: 0.9876 - precision: 0.9916 - recall: 0.9948 - val_loss: 1.4103 - val_accuracy: 0.7450 - val_precision: 0.6664 - val_recall: 0.9810\n",
      "Epoch 71/100\n",
      "172/172 [==============================] - 2s 14ms/step - loss: 0.0285 - accuracy: 0.9901 - precision: 0.9932 - recall: 0.9960 - val_loss: 1.2114 - val_accuracy: 0.7835 - val_precision: 0.7047 - val_recall: 0.9760\n",
      "Epoch 72/100\n",
      "172/172 [==============================] - 3s 15ms/step - loss: 0.0306 - accuracy: 0.9898 - precision: 0.9938 - recall: 0.9950 - val_loss: 0.9104 - val_accuracy: 0.8210 - val_precision: 0.7492 - val_recall: 0.9650\n",
      "Epoch 73/100\n"
     ]
    },
    {
     "name": "stdout",
     "output_type": "stream",
     "text": [
      "172/172 [==============================] - 2s 14ms/step - loss: 0.0304 - accuracy: 0.9890 - precision: 0.9926 - recall: 0.9954 - val_loss: 0.9294 - val_accuracy: 0.8175 - val_precision: 0.7429 - val_recall: 0.9710\n",
      "Epoch 74/100\n",
      "172/172 [==============================] - 3s 15ms/step - loss: 0.0264 - accuracy: 0.9887 - precision: 0.9928 - recall: 0.9948 - val_loss: 0.9796 - val_accuracy: 0.8185 - val_precision: 0.7463 - val_recall: 0.9650\n",
      "Epoch 75/100\n",
      "172/172 [==============================] - 3s 15ms/step - loss: 0.0308 - accuracy: 0.9896 - precision: 0.9930 - recall: 0.9956 - val_loss: 1.0704 - val_accuracy: 0.8085 - val_precision: 0.7318 - val_recall: 0.9740\n",
      "Epoch 76/100\n",
      "172/172 [==============================] - 2s 15ms/step - loss: 0.0152 - accuracy: 0.9963 - precision: 0.9978 - recall: 0.9982 - val_loss: 1.3276 - val_accuracy: 0.7755 - val_precision: 0.6942 - val_recall: 0.9850\n",
      "Epoch 77/100\n",
      "172/172 [==============================] - 2s 14ms/step - loss: 0.0169 - accuracy: 0.9954 - precision: 0.9964 - recall: 0.9986 - val_loss: 0.9534 - val_accuracy: 0.8130 - val_precision: 0.7500 - val_recall: 0.9390\n",
      "Epoch 78/100\n",
      "172/172 [==============================] - 2s 14ms/step - loss: 0.0395 - accuracy: 0.9841 - precision: 0.9900 - recall: 0.9926 - val_loss: 1.2644 - val_accuracy: 0.7910 - val_precision: 0.7124 - val_recall: 0.9760\n",
      "Epoch 79/100\n",
      "172/172 [==============================] - 2s 15ms/step - loss: 0.0183 - accuracy: 0.9936 - precision: 0.9950 - recall: 0.9980 - val_loss: 0.8634 - val_accuracy: 0.8485 - val_precision: 0.7873 - val_recall: 0.9550\n",
      "Epoch 80/100\n",
      "172/172 [==============================] - 2s 14ms/step - loss: 0.0173 - accuracy: 0.9938 - precision: 0.9968 - recall: 0.9964 - val_loss: 1.0465 - val_accuracy: 0.8120 - val_precision: 0.7364 - val_recall: 0.9720\n",
      "Epoch 81/100\n",
      "172/172 [==============================] - 2s 14ms/step - loss: 0.0777 - accuracy: 0.9708 - precision: 0.9838 - recall: 0.9842 - val_loss: 1.0486 - val_accuracy: 0.7965 - val_precision: 0.7175 - val_recall: 0.9780\n",
      "Epoch 82/100\n",
      "172/172 [==============================] - 2s 14ms/step - loss: 0.0321 - accuracy: 0.9887 - precision: 0.9922 - recall: 0.9954 - val_loss: 1.0741 - val_accuracy: 0.7980 - val_precision: 0.7204 - val_recall: 0.9740\n",
      "Epoch 83/100\n",
      "172/172 [==============================] - 2s 13ms/step - loss: 0.0205 - accuracy: 0.9942 - precision: 0.9952 - recall: 0.9984 - val_loss: 1.6284 - val_accuracy: 0.7335 - val_precision: 0.6547 - val_recall: 0.9880\n",
      "Epoch 84/100\n",
      "172/172 [==============================] - 2s 13ms/step - loss: 0.0211 - accuracy: 0.9936 - precision: 0.9960 - recall: 0.9970 - val_loss: 1.0734 - val_accuracy: 0.8045 - val_precision: 0.7261 - val_recall: 0.9780\n",
      "Epoch 85/100\n",
      "172/172 [==============================] - 2s 13ms/step - loss: 0.0151 - accuracy: 0.9956 - precision: 0.9968 - recall: 0.9984 - val_loss: 0.8738 - val_accuracy: 0.8310 - val_precision: 0.7631 - val_recall: 0.9600\n",
      "Epoch 86/100\n",
      "172/172 [==============================] - 2s 13ms/step - loss: 0.0641 - accuracy: 0.9755 - precision: 0.9864 - recall: 0.9868 - val_loss: 1.0816 - val_accuracy: 0.8015 - val_precision: 0.7219 - val_recall: 0.9810\n",
      "Epoch 87/100\n",
      "172/172 [==============================] - 2s 13ms/step - loss: 0.0172 - accuracy: 0.9942 - precision: 0.9952 - recall: 0.9984 - val_loss: 0.9548 - val_accuracy: 0.8280 - val_precision: 0.7579 - val_recall: 0.9640\n",
      "Epoch 88/100\n",
      "172/172 [==============================] - 2s 13ms/step - loss: 0.0173 - accuracy: 0.9951 - precision: 0.9962 - recall: 0.9984 - val_loss: 0.8938 - val_accuracy: 0.8350 - val_precision: 0.7655 - val_recall: 0.9660\n",
      "Epoch 89/100\n",
      "172/172 [==============================] - 2s 13ms/step - loss: 0.0191 - accuracy: 0.9940 - precision: 0.9962 - recall: 0.9972 - val_loss: 0.9692 - val_accuracy: 0.8225 - val_precision: 0.7506 - val_recall: 0.9660\n",
      "Epoch 90/100\n",
      "172/172 [==============================] - 2s 13ms/step - loss: 0.0258 - accuracy: 0.9918 - precision: 0.9942 - recall: 0.9968 - val_loss: 1.0605 - val_accuracy: 0.8085 - val_precision: 0.7339 - val_recall: 0.9680\n",
      "Epoch 91/100\n",
      "172/172 [==============================] - 2s 13ms/step - loss: 0.0144 - accuracy: 0.9963 - precision: 0.9970 - recall: 0.9990 - val_loss: 1.1855 - val_accuracy: 0.8050 - val_precision: 0.7263 - val_recall: 0.9790\n",
      "Epoch 92/100\n",
      "172/172 [==============================] - 2s 13ms/step - loss: 0.0140 - accuracy: 0.9965 - precision: 0.9974 - recall: 0.9988 - val_loss: 1.3763 - val_accuracy: 0.7865 - val_precision: 0.7081 - val_recall: 0.9750\n",
      "Epoch 93/100\n",
      "172/172 [==============================] - 2s 13ms/step - loss: 0.0228 - accuracy: 0.9931 - precision: 0.9950 - recall: 0.9974 - val_loss: 1.3820 - val_accuracy: 0.7895 - val_precision: 0.7090 - val_recall: 0.9820\n",
      "Epoch 94/100\n",
      "172/172 [==============================] - 2s 14ms/step - loss: 0.0137 - accuracy: 0.9958 - precision: 0.9974 - recall: 0.9980 - val_loss: 1.2123 - val_accuracy: 0.8035 - val_precision: 0.7260 - val_recall: 0.9750\n",
      "Epoch 95/100\n",
      "172/172 [==============================] - 2s 13ms/step - loss: 0.0353 - accuracy: 0.9872 - precision: 0.9928 - recall: 0.9932 - val_loss: 1.0394 - val_accuracy: 0.8190 - val_precision: 0.7450 - val_recall: 0.9700\n",
      "Epoch 96/100\n",
      "172/172 [==============================] - 2s 13ms/step - loss: 0.0199 - accuracy: 0.9940 - precision: 0.9958 - recall: 0.9976 - val_loss: 1.5057 - val_accuracy: 0.7730 - val_precision: 0.6925 - val_recall: 0.9820\n",
      "Epoch 97/100\n",
      "172/172 [==============================] - 2s 13ms/step - loss: 0.0236 - accuracy: 0.9918 - precision: 0.9948 - recall: 0.9962 - val_loss: 1.2486 - val_accuracy: 0.7965 - val_precision: 0.7185 - val_recall: 0.9750\n",
      "Epoch 98/100\n",
      "172/172 [==============================] - 2s 13ms/step - loss: 0.0320 - accuracy: 0.9867 - precision: 0.9914 - recall: 0.9940 - val_loss: 1.0021 - val_accuracy: 0.8430 - val_precision: 0.7748 - val_recall: 0.9670\n",
      "Epoch 99/100\n",
      "172/172 [==============================] - 2s 13ms/step - loss: 0.0220 - accuracy: 0.9920 - precision: 0.9946 - recall: 0.9966 - val_loss: 1.0903 - val_accuracy: 0.8185 - val_precision: 0.7463 - val_recall: 0.9650\n",
      "Epoch 100/100\n",
      "172/172 [==============================] - 2s 13ms/step - loss: 0.0167 - accuracy: 0.9945 - precision: 0.9968 - recall: 0.9972 - val_loss: 0.9908 - val_accuracy: 0.8365 - val_precision: 0.7673 - val_recall: 0.9660\n"
     ]
    },
    {
     "data": {
      "text/plain": [
       "<tensorflow.python.keras.callbacks.History at 0x7f8a7be66be0>"
      ]
     },
     "execution_count": 7,
     "metadata": {},
     "output_type": "execute_result"
    }
   ],
   "source": [
    "model = MyModel()\n",
    "model.compile(optimizer='adam',\n",
    "              loss='binary_crossentropy',\n",
    "              metrics=['accuracy',\n",
    "                       tf.keras.metrics.Precision(name='precision'),\n",
    "                      tf.keras.metrics.Recall(name='recall')])\n",
    "model.fit(train_ds, validation_data=test_ds, epochs=EPOCHS)"
   ]
  },
  {
   "cell_type": "markdown",
   "metadata": {},
   "source": [
    "## 데이터셋 준비 (BorderlineSMOTE)"
   ]
  },
  {
   "cell_type": "code",
   "execution_count": 13,
   "metadata": {
    "ExecuteTime": {
     "end_time": "2020-02-04T10:40:15.842407Z",
     "start_time": "2020-02-04T10:40:03.744779Z"
    }
   },
   "outputs": [
    {
     "name": "stderr",
     "output_type": "stream",
     "text": [
      "/opt/conda/lib/python3.6/site-packages/sklearn/utils/validation.py:724: DataConversionWarning: A column-vector y was passed when a 1d array was expected. Please change the shape of y to (n_samples, ), for example using ravel().\n",
      "  y = column_or_1d(y, warn=True)\n"
     ]
    }
   ],
   "source": [
    "# TODO: BorderlineSMOTE 적용하기\n",
    "\n",
    "x_train = x_train.reshape((x_train.shape[0], x_train.shape[1] * x_train.shape[2] * x_train.shape[3])).astype(np.float32)\n",
    "x_test = x_test.reshape((x_test.shape[0], x_test.shape[1] * x_test.shape[2] * x_test.shape[3])).astype(np.float32)\n",
    "\n",
    "smote = BorderlineSMOTE()\n",
    "x_train, y_train = smote.fit_resample(x_train, y_train)\n",
    "\n",
    "train_ds = tf.data.Dataset.from_tensor_slices((x_train, y_train)).shuffle(10000).batch(32).prefetch(2048)\n",
    "test_ds = tf.data.Dataset.from_tensor_slices((x_test, y_test)).batch(32).prefetch(2048)"
   ]
  },
  {
   "cell_type": "markdown",
   "metadata": {},
   "source": [
    "## Keras API 모델 학습 (BorderlineSMOTE)"
   ]
  },
  {
   "cell_type": "code",
   "execution_count": 14,
   "metadata": {
    "ExecuteTime": {
     "end_time": "2020-02-04T10:47:40.741736Z",
     "start_time": "2020-02-04T10:40:37.961834Z"
    }
   },
   "outputs": [
    {
     "name": "stdout",
     "output_type": "stream",
     "text": [
      "Epoch 1/100\n",
      "313/313 [==============================] - 5s 16ms/step - loss: 0.5231 - accuracy: 0.7690 - precision: 0.7892 - recall: 0.7340 - val_loss: 0.0000e+00 - val_accuracy: 0.0000e+00 - val_precision: 0.0000e+00 - val_recall: 0.0000e+00\n",
      "Epoch 2/100\n",
      "313/313 [==============================] - 4s 14ms/step - loss: 0.3343 - accuracy: 0.8602 - precision: 0.8917 - recall: 0.8200 - val_loss: 0.4491 - val_accuracy: 0.8030 - val_precision: 0.8507 - val_recall: 0.7350\n",
      "Epoch 3/100\n",
      "313/313 [==============================] - 4s 14ms/step - loss: 0.2678 - accuracy: 0.8972 - precision: 0.9247 - recall: 0.8648 - val_loss: 0.4486 - val_accuracy: 0.8150 - val_precision: 0.8786 - val_recall: 0.7310\n",
      "Epoch 4/100\n",
      "313/313 [==============================] - 4s 14ms/step - loss: 0.2305 - accuracy: 0.9141 - precision: 0.9414 - recall: 0.8832 - val_loss: 0.4187 - val_accuracy: 0.8370 - val_precision: 0.8474 - val_recall: 0.8220\n",
      "Epoch 5/100\n",
      "313/313 [==============================] - 4s 14ms/step - loss: 0.1878 - accuracy: 0.9331 - precision: 0.9552 - recall: 0.9088 - val_loss: 0.5255 - val_accuracy: 0.8015 - val_precision: 0.8962 - val_recall: 0.6820\n",
      "Epoch 6/100\n",
      "313/313 [==============================] - 4s 14ms/step - loss: 0.1643 - accuracy: 0.9436 - precision: 0.9650 - recall: 0.9206 - val_loss: 0.4284 - val_accuracy: 0.8385 - val_precision: 0.8574 - val_recall: 0.8120\n",
      "Epoch 7/100\n",
      "313/313 [==============================] - 4s 14ms/step - loss: 0.1368 - accuracy: 0.9538 - precision: 0.9707 - recall: 0.9358 - val_loss: 0.6835 - val_accuracy: 0.7960 - val_precision: 0.7196 - val_recall: 0.9700\n",
      "Epoch 8/100\n",
      "313/313 [==============================] - 4s 14ms/step - loss: 0.1157 - accuracy: 0.9641 - precision: 0.9801 - recall: 0.9474 - val_loss: 0.4709 - val_accuracy: 0.8455 - val_precision: 0.8345 - val_recall: 0.8620\n",
      "Epoch 9/100\n",
      "313/313 [==============================] - 4s 14ms/step - loss: 0.1124 - accuracy: 0.9637 - precision: 0.9783 - recall: 0.9484 - val_loss: 0.6459 - val_accuracy: 0.8240 - val_precision: 0.7567 - val_recall: 0.9550\n",
      "Epoch 10/100\n",
      "313/313 [==============================] - 4s 14ms/step - loss: 0.1013 - accuracy: 0.9678 - precision: 0.9809 - recall: 0.9542 - val_loss: 0.5538 - val_accuracy: 0.8385 - val_precision: 0.7967 - val_recall: 0.9090\n",
      "Epoch 11/100\n",
      "313/313 [==============================] - 4s 14ms/step - loss: 0.0884 - accuracy: 0.9736 - precision: 0.9845 - recall: 0.9624 - val_loss: 0.8028 - val_accuracy: 0.7850 - val_precision: 0.7086 - val_recall: 0.9680\n",
      "Epoch 12/100\n",
      "313/313 [==============================] - 4s 14ms/step - loss: 0.0857 - accuracy: 0.9722 - precision: 0.9836 - recall: 0.9604 - val_loss: 0.4877 - val_accuracy: 0.8520 - val_precision: 0.8721 - val_recall: 0.8250\n",
      "Epoch 13/100\n",
      "313/313 [==============================] - 4s 14ms/step - loss: 0.0738 - accuracy: 0.9757 - precision: 0.9853 - recall: 0.9658 - val_loss: 0.5163 - val_accuracy: 0.8590 - val_precision: 0.8306 - val_recall: 0.9020\n",
      "Epoch 14/100\n",
      "313/313 [==============================] - 4s 14ms/step - loss: 0.0916 - accuracy: 0.9709 - precision: 0.9822 - recall: 0.9592 - val_loss: 1.0455 - val_accuracy: 0.7750 - val_precision: 0.6961 - val_recall: 0.9760\n",
      "Epoch 15/100\n",
      "313/313 [==============================] - 4s 14ms/step - loss: 0.0896 - accuracy: 0.9691 - precision: 0.9798 - recall: 0.9580 - val_loss: 0.5924 - val_accuracy: 0.8585 - val_precision: 0.8131 - val_recall: 0.9310\n",
      "Epoch 16/100\n",
      "313/313 [==============================] - 4s 14ms/step - loss: 0.0600 - accuracy: 0.9804 - precision: 0.9886 - recall: 0.9720 - val_loss: 0.6099 - val_accuracy: 0.8490 - val_precision: 0.7918 - val_recall: 0.9470\n",
      "Epoch 17/100\n",
      "313/313 [==============================] - 4s 14ms/step - loss: 0.0602 - accuracy: 0.9804 - precision: 0.9874 - recall: 0.9732 - val_loss: 0.6496 - val_accuracy: 0.8465 - val_precision: 0.7829 - val_recall: 0.9590\n",
      "Epoch 18/100\n",
      "313/313 [==============================] - 4s 14ms/step - loss: 0.0495 - accuracy: 0.9854 - precision: 0.9917 - recall: 0.9790 - val_loss: 0.8182 - val_accuracy: 0.8210 - val_precision: 0.7496 - val_recall: 0.9640\n",
      "Epoch 19/100\n",
      "313/313 [==============================] - 4s 13ms/step - loss: 0.0525 - accuracy: 0.9827 - precision: 0.9902 - recall: 0.9750 - val_loss: 0.6674 - val_accuracy: 0.8445 - val_precision: 0.7808 - val_recall: 0.9580\n",
      "Epoch 20/100\n",
      "313/313 [==============================] - 4s 13ms/step - loss: 0.0542 - accuracy: 0.9824 - precision: 0.9885 - recall: 0.9762 - val_loss: 0.7210 - val_accuracy: 0.8355 - val_precision: 0.7748 - val_recall: 0.9460\n",
      "Epoch 21/100\n",
      "313/313 [==============================] - 4s 13ms/step - loss: 0.0584 - accuracy: 0.9802 - precision: 0.9868 - recall: 0.9734 - val_loss: 1.0776 - val_accuracy: 0.7905 - val_precision: 0.7094 - val_recall: 0.9840\n",
      "Epoch 22/100\n",
      "313/313 [==============================] - 4s 13ms/step - loss: 0.0423 - accuracy: 0.9857 - precision: 0.9899 - recall: 0.9814 - val_loss: 0.8925 - val_accuracy: 0.8290 - val_precision: 0.7591 - val_recall: 0.9640\n",
      "Epoch 23/100\n",
      "313/313 [==============================] - 4s 13ms/step - loss: 0.0538 - accuracy: 0.9812 - precision: 0.9872 - recall: 0.9750 - val_loss: 0.9346 - val_accuracy: 0.8155 - val_precision: 0.7392 - val_recall: 0.9750\n",
      "Epoch 24/100\n",
      "313/313 [==============================] - 4s 13ms/step - loss: 0.0396 - accuracy: 0.9845 - precision: 0.9887 - recall: 0.9802 - val_loss: 1.3373 - val_accuracy: 0.7660 - val_precision: 0.6860 - val_recall: 0.9810\n",
      "Epoch 25/100\n",
      "313/313 [==============================] - 4s 13ms/step - loss: 0.0519 - accuracy: 0.9828 - precision: 0.9875 - recall: 0.9780 - val_loss: 0.8494 - val_accuracy: 0.8355 - val_precision: 0.7673 - val_recall: 0.9630\n",
      "Epoch 26/100\n",
      "313/313 [==============================] - 4s 14ms/step - loss: 0.0492 - accuracy: 0.9842 - precision: 0.9891 - recall: 0.9792 - val_loss: 0.7859 - val_accuracy: 0.8405 - val_precision: 0.7789 - val_recall: 0.9510\n",
      "Epoch 27/100\n",
      "313/313 [==============================] - 4s 13ms/step - loss: 0.0366 - accuracy: 0.9880 - precision: 0.9917 - recall: 0.9842 - val_loss: 1.3939 - val_accuracy: 0.7785 - val_precision: 0.6982 - val_recall: 0.9810\n",
      "Epoch 28/100\n",
      "313/313 [==============================] - 4s 13ms/step - loss: 0.0318 - accuracy: 0.9897 - precision: 0.9934 - recall: 0.9860 - val_loss: 1.1427 - val_accuracy: 0.8065 - val_precision: 0.7289 - val_recall: 0.9760\n",
      "Epoch 29/100\n",
      "313/313 [==============================] - 4s 13ms/step - loss: 0.0364 - accuracy: 0.9878 - precision: 0.9911 - recall: 0.9844 - val_loss: 0.7268 - val_accuracy: 0.8625 - val_precision: 0.8177 - val_recall: 0.9330\n",
      "Epoch 30/100\n",
      "313/313 [==============================] - 4s 13ms/step - loss: 0.0268 - accuracy: 0.9916 - precision: 0.9948 - recall: 0.9884 - val_loss: 1.1364 - val_accuracy: 0.8030 - val_precision: 0.7289 - val_recall: 0.9650\n",
      "Epoch 31/100\n",
      "313/313 [==============================] - 4s 13ms/step - loss: 0.0443 - accuracy: 0.9850 - precision: 0.9883 - recall: 0.9816 - val_loss: 0.7481 - val_accuracy: 0.8525 - val_precision: 0.8031 - val_recall: 0.9340\n",
      "Epoch 32/100\n",
      "313/313 [==============================] - 4s 13ms/step - loss: 0.0329 - accuracy: 0.9893 - precision: 0.9927 - recall: 0.9858 - val_loss: 0.8781 - val_accuracy: 0.8435 - val_precision: 0.7870 - val_recall: 0.9420\n",
      "Epoch 33/100\n",
      "313/313 [==============================] - 4s 13ms/step - loss: 0.0320 - accuracy: 0.9902 - precision: 0.9930 - recall: 0.9874 - val_loss: 0.7536 - val_accuracy: 0.8580 - val_precision: 0.8196 - val_recall: 0.9180\n",
      "Epoch 34/100\n",
      "313/313 [==============================] - 4s 13ms/step - loss: 0.0273 - accuracy: 0.9913 - precision: 0.9944 - recall: 0.9882 - val_loss: 1.0096 - val_accuracy: 0.8395 - val_precision: 0.7758 - val_recall: 0.9550\n",
      "Epoch 35/100\n",
      "313/313 [==============================] - 4s 13ms/step - loss: 0.0176 - accuracy: 0.9951 - precision: 0.9970 - recall: 0.9932 - val_loss: 1.2314 - val_accuracy: 0.8090 - val_precision: 0.7327 - val_recall: 0.9730\n",
      "Epoch 36/100\n",
      "313/313 [==============================] - 4s 13ms/step - loss: 0.0207 - accuracy: 0.9942 - precision: 0.9966 - recall: 0.9918 - val_loss: 1.7283 - val_accuracy: 0.7710 - val_precision: 0.6887 - val_recall: 0.9890\n",
      "Epoch 37/100\n"
     ]
    },
    {
     "name": "stdout",
     "output_type": "stream",
     "text": [
      "313/313 [==============================] - 4s 12ms/step - loss: 0.0352 - accuracy: 0.9896 - precision: 0.9930 - recall: 0.9862 - val_loss: 1.3111 - val_accuracy: 0.8065 - val_precision: 0.7299 - val_recall: 0.9730\n",
      "Epoch 38/100\n",
      "313/313 [==============================] - 4s 12ms/step - loss: 0.0322 - accuracy: 0.9889 - precision: 0.9912 - recall: 0.9866 - val_loss: 1.0109 - val_accuracy: 0.8495 - val_precision: 0.7900 - val_recall: 0.9520\n",
      "Epoch 39/100\n",
      "313/313 [==============================] - 4s 12ms/step - loss: 0.0188 - accuracy: 0.9945 - precision: 0.9966 - recall: 0.9924 - val_loss: 1.1429 - val_accuracy: 0.8365 - val_precision: 0.7656 - val_recall: 0.9700\n",
      "Epoch 40/100\n",
      "313/313 [==============================] - 4s 12ms/step - loss: 0.0287 - accuracy: 0.9903 - precision: 0.9934 - recall: 0.9872 - val_loss: 1.2180 - val_accuracy: 0.8130 - val_precision: 0.7378 - val_recall: 0.9710\n",
      "Epoch 41/100\n",
      "313/313 [==============================] - 4s 13ms/step - loss: 0.0212 - accuracy: 0.9935 - precision: 0.9950 - recall: 0.9920 - val_loss: 0.7586 - val_accuracy: 0.8690 - val_precision: 0.8501 - val_recall: 0.8960\n",
      "Epoch 42/100\n",
      "313/313 [==============================] - 4s 13ms/step - loss: 0.0248 - accuracy: 0.9926 - precision: 0.9950 - recall: 0.9902 - val_loss: 0.9110 - val_accuracy: 0.8645 - val_precision: 0.8140 - val_recall: 0.9450\n",
      "Epoch 43/100\n",
      "313/313 [==============================] - 4s 13ms/step - loss: 0.0141 - accuracy: 0.9956 - precision: 0.9970 - recall: 0.9942 - val_loss: 2.0138 - val_accuracy: 0.7460 - val_precision: 0.6655 - val_recall: 0.9890\n",
      "Epoch 44/100\n",
      "313/313 [==============================] - 4s 13ms/step - loss: 0.0216 - accuracy: 0.9926 - precision: 0.9946 - recall: 0.9906 - val_loss: 0.9109 - val_accuracy: 0.8675 - val_precision: 0.8302 - val_recall: 0.9240\n",
      "Epoch 45/100\n",
      "313/313 [==============================] - 4s 13ms/step - loss: 0.0202 - accuracy: 0.9935 - precision: 0.9956 - recall: 0.9914 - val_loss: 1.1648 - val_accuracy: 0.8375 - val_precision: 0.7689 - val_recall: 0.9650\n",
      "Epoch 46/100\n",
      "313/313 [==============================] - 4s 13ms/step - loss: 0.0125 - accuracy: 0.9960 - precision: 0.9966 - recall: 0.9954 - val_loss: 0.9630 - val_accuracy: 0.8660 - val_precision: 0.8222 - val_recall: 0.9340\n",
      "Epoch 47/100\n",
      "313/313 [==============================] - 4s 13ms/step - loss: 0.0576 - accuracy: 0.9813 - precision: 0.9859 - recall: 0.9766 - val_loss: 1.0278 - val_accuracy: 0.8360 - val_precision: 0.7714 - val_recall: 0.9550\n",
      "Epoch 48/100\n",
      "313/313 [==============================] - 4s 14ms/step - loss: 0.0234 - accuracy: 0.9925 - precision: 0.9952 - recall: 0.9898 - val_loss: 1.5689 - val_accuracy: 0.7800 - val_precision: 0.7017 - val_recall: 0.9740\n",
      "Epoch 49/100\n",
      "313/313 [==============================] - 4s 14ms/step - loss: 0.0206 - accuracy: 0.9926 - precision: 0.9950 - recall: 0.9902 - val_loss: 1.1586 - val_accuracy: 0.8420 - val_precision: 0.7776 - val_recall: 0.9580\n",
      "Epoch 50/100\n",
      "313/313 [==============================] - 4s 14ms/step - loss: 0.0171 - accuracy: 0.9948 - precision: 0.9960 - recall: 0.9936 - val_loss: 1.4234 - val_accuracy: 0.8145 - val_precision: 0.7436 - val_recall: 0.9600\n",
      "Epoch 51/100\n",
      "313/313 [==============================] - 4s 13ms/step - loss: 0.0144 - accuracy: 0.9961 - precision: 0.9968 - recall: 0.9954 - val_loss: 1.7251 - val_accuracy: 0.8030 - val_precision: 0.7241 - val_recall: 0.9790\n",
      "Epoch 52/100\n",
      "313/313 [==============================] - 4s 13ms/step - loss: 0.0192 - accuracy: 0.9931 - precision: 0.9950 - recall: 0.9912 - val_loss: 1.4680 - val_accuracy: 0.8305 - val_precision: 0.7576 - val_recall: 0.9720\n",
      "Epoch 53/100\n",
      "313/313 [==============================] - 4s 14ms/step - loss: 0.0185 - accuracy: 0.9936 - precision: 0.9954 - recall: 0.9918 - val_loss: 1.3650 - val_accuracy: 0.8295 - val_precision: 0.7592 - val_recall: 0.9650\n",
      "Epoch 54/100\n",
      "313/313 [==============================] - 4s 14ms/step - loss: 0.0406 - accuracy: 0.9866 - precision: 0.9889 - recall: 0.9842 - val_loss: 0.8205 - val_accuracy: 0.8285 - val_precision: 0.7946 - val_recall: 0.8860\n",
      "Epoch 55/100\n",
      "313/313 [==============================] - 4s 14ms/step - loss: 0.0387 - accuracy: 0.9862 - precision: 0.9897 - recall: 0.9826 - val_loss: 1.0900 - val_accuracy: 0.8425 - val_precision: 0.7805 - val_recall: 0.9530\n",
      "Epoch 56/100\n",
      "313/313 [==============================] - 4s 14ms/step - loss: 0.0128 - accuracy: 0.9957 - precision: 0.9968 - recall: 0.9946 - val_loss: 1.1632 - val_accuracy: 0.8325 - val_precision: 0.7662 - val_recall: 0.9570\n",
      "Epoch 57/100\n",
      "313/313 [==============================] - 4s 14ms/step - loss: 0.0152 - accuracy: 0.9947 - precision: 0.9964 - recall: 0.9930 - val_loss: 1.8246 - val_accuracy: 0.7855 - val_precision: 0.7041 - val_recall: 0.9850\n",
      "Epoch 58/100\n",
      "313/313 [==============================] - 4s 14ms/step - loss: 0.0238 - accuracy: 0.9929 - precision: 0.9950 - recall: 0.9908 - val_loss: 1.2187 - val_accuracy: 0.8185 - val_precision: 0.7498 - val_recall: 0.9560\n",
      "Epoch 59/100\n",
      "313/313 [==============================] - 4s 14ms/step - loss: 0.0279 - accuracy: 0.9905 - precision: 0.9934 - recall: 0.9876 - val_loss: 0.9519 - val_accuracy: 0.8615 - val_precision: 0.8213 - val_recall: 0.9240\n",
      "Epoch 60/100\n",
      "313/313 [==============================] - 4s 14ms/step - loss: 0.0124 - accuracy: 0.9960 - precision: 0.9978 - recall: 0.9942 - val_loss: 1.2172 - val_accuracy: 0.8420 - val_precision: 0.7780 - val_recall: 0.9570\n",
      "Epoch 61/100\n",
      "313/313 [==============================] - 4s 14ms/step - loss: 0.0106 - accuracy: 0.9963 - precision: 0.9972 - recall: 0.9954 - val_loss: 1.6878 - val_accuracy: 0.8100 - val_precision: 0.7320 - val_recall: 0.9780\n",
      "Epoch 62/100\n",
      "313/313 [==============================] - 4s 14ms/step - loss: 0.0124 - accuracy: 0.9957 - precision: 0.9962 - recall: 0.9952 - val_loss: 1.6094 - val_accuracy: 0.8205 - val_precision: 0.7448 - val_recall: 0.9750\n",
      "Epoch 63/100\n",
      "313/313 [==============================] - 4s 14ms/step - loss: 0.0102 - accuracy: 0.9972 - precision: 0.9982 - recall: 0.9962 - val_loss: 1.6842 - val_accuracy: 0.8035 - val_precision: 0.7246 - val_recall: 0.9790\n",
      "Epoch 64/100\n",
      "313/313 [==============================] - 4s 14ms/step - loss: 0.0111 - accuracy: 0.9967 - precision: 0.9976 - recall: 0.9958 - val_loss: 1.3703 - val_accuracy: 0.8370 - val_precision: 0.7709 - val_recall: 0.9590\n",
      "Epoch 65/100\n",
      "313/313 [==============================] - 4s 14ms/step - loss: 0.0139 - accuracy: 0.9950 - precision: 0.9964 - recall: 0.9936 - val_loss: 1.5064 - val_accuracy: 0.8235 - val_precision: 0.7510 - val_recall: 0.9680\n",
      "Epoch 66/100\n",
      "313/313 [==============================] - 4s 14ms/step - loss: 0.0065 - accuracy: 0.9978 - precision: 0.9988 - recall: 0.9968 - val_loss: 1.6018 - val_accuracy: 0.8195 - val_precision: 0.7437 - val_recall: 0.9750\n",
      "Epoch 67/100\n",
      "313/313 [==============================] - 4s 14ms/step - loss: 0.0367 - accuracy: 0.9879 - precision: 0.9911 - recall: 0.9846 - val_loss: 1.0772 - val_accuracy: 0.8450 - val_precision: 0.7885 - val_recall: 0.9430\n",
      "Epoch 68/100\n",
      "313/313 [==============================] - 4s 14ms/step - loss: 0.0156 - accuracy: 0.9952 - precision: 0.9968 - recall: 0.9936 - val_loss: 1.6145 - val_accuracy: 0.8065 - val_precision: 0.7317 - val_recall: 0.9680\n",
      "Epoch 69/100\n",
      "313/313 [==============================] - 4s 14ms/step - loss: 0.0120 - accuracy: 0.9962 - precision: 0.9968 - recall: 0.9956 - val_loss: 1.3139 - val_accuracy: 0.8500 - val_precision: 0.7878 - val_recall: 0.9580\n",
      "Epoch 70/100\n",
      "313/313 [==============================] - 4s 14ms/step - loss: 0.0241 - accuracy: 0.9919 - precision: 0.9936 - recall: 0.9902 - val_loss: 1.9849 - val_accuracy: 0.8005 - val_precision: 0.7201 - val_recall: 0.9830\n",
      "Epoch 71/100\n",
      "313/313 [==============================] - 4s 14ms/step - loss: 0.0183 - accuracy: 0.9949 - precision: 0.9960 - recall: 0.9938 - val_loss: 1.6292 - val_accuracy: 0.8175 - val_precision: 0.7411 - val_recall: 0.9760\n",
      "Epoch 72/100\n",
      "313/313 [==============================] - 4s 14ms/step - loss: 0.0024 - accuracy: 0.9994 - precision: 0.9992 - recall: 0.9996 - val_loss: 1.6537 - val_accuracy: 0.8290 - val_precision: 0.7562 - val_recall: 0.9710\n",
      "Epoch 73/100\n"
     ]
    },
    {
     "name": "stdout",
     "output_type": "stream",
     "text": [
      "313/313 [==============================] - 4s 14ms/step - loss: 0.0047 - accuracy: 0.9988 - precision: 0.9990 - recall: 0.9986 - val_loss: 1.4015 - val_accuracy: 0.8395 - val_precision: 0.7758 - val_recall: 0.9550\n",
      "Epoch 74/100\n",
      "313/313 [==============================] - 4s 13ms/step - loss: 0.0060 - accuracy: 0.9988 - precision: 0.9994 - recall: 0.9982 - val_loss: 2.0709 - val_accuracy: 0.7830 - val_precision: 0.7036 - val_recall: 0.9780\n",
      "Epoch 75/100\n",
      "313/313 [==============================] - 4s 14ms/step - loss: 0.0062 - accuracy: 0.9980 - precision: 0.9982 - recall: 0.9978 - val_loss: 1.3222 - val_accuracy: 0.8460 - val_precision: 0.7845 - val_recall: 0.9540\n",
      "Epoch 76/100\n",
      "313/313 [==============================] - 4s 13ms/step - loss: 0.0086 - accuracy: 0.9971 - precision: 0.9976 - recall: 0.9966 - val_loss: 1.4087 - val_accuracy: 0.8325 - val_precision: 0.7671 - val_recall: 0.9550\n",
      "Epoch 77/100\n",
      "313/313 [==============================] - 4s 13ms/step - loss: 0.0477 - accuracy: 0.9838 - precision: 0.9865 - recall: 0.9810 - val_loss: 1.4379 - val_accuracy: 0.8260 - val_precision: 0.7555 - val_recall: 0.9640\n",
      "Epoch 78/100\n",
      "313/313 [==============================] - 4s 13ms/step - loss: 0.0089 - accuracy: 0.9972 - precision: 0.9982 - recall: 0.9962 - val_loss: 1.6773 - val_accuracy: 0.8140 - val_precision: 0.7390 - val_recall: 0.9710\n",
      "Epoch 79/100\n",
      "313/313 [==============================] - 4s 13ms/step - loss: 0.0052 - accuracy: 0.9984 - precision: 0.9986 - recall: 0.9982 - val_loss: 1.5497 - val_accuracy: 0.8340 - val_precision: 0.7638 - val_recall: 0.9670\n",
      "Epoch 80/100\n",
      "313/313 [==============================] - 4s 13ms/step - loss: 0.0118 - accuracy: 0.9958 - precision: 0.9968 - recall: 0.9948 - val_loss: 1.0825 - val_accuracy: 0.8665 - val_precision: 0.8281 - val_recall: 0.9250\n",
      "Epoch 81/100\n",
      "313/313 [==============================] - 4s 14ms/step - loss: 0.0234 - accuracy: 0.9927 - precision: 0.9948 - recall: 0.9906 - val_loss: 1.4223 - val_accuracy: 0.8305 - val_precision: 0.7650 - val_recall: 0.9540\n",
      "Epoch 82/100\n",
      "313/313 [==============================] - 4s 13ms/step - loss: 0.0089 - accuracy: 0.9963 - precision: 0.9978 - recall: 0.9948 - val_loss: 1.7060 - val_accuracy: 0.8205 - val_precision: 0.7460 - val_recall: 0.9720\n",
      "Epoch 83/100\n",
      "313/313 [==============================] - 4s 13ms/step - loss: 0.0056 - accuracy: 0.9980 - precision: 0.9988 - recall: 0.9972 - val_loss: 1.6196 - val_accuracy: 0.8230 - val_precision: 0.7504 - val_recall: 0.9680\n",
      "Epoch 84/100\n",
      "313/313 [==============================] - 4s 13ms/step - loss: 0.0233 - accuracy: 0.9925 - precision: 0.9938 - recall: 0.9912 - val_loss: 1.1794 - val_accuracy: 0.8570 - val_precision: 0.8046 - val_recall: 0.9430\n",
      "Epoch 85/100\n",
      "313/313 [==============================] - 4s 13ms/step - loss: 0.0054 - accuracy: 0.9989 - precision: 0.9992 - recall: 0.9986 - val_loss: 1.6707 - val_accuracy: 0.8300 - val_precision: 0.7607 - val_recall: 0.9630\n",
      "Epoch 86/100\n",
      "313/313 [==============================] - 4s 13ms/step - loss: 0.0018 - accuracy: 0.9997 - precision: 1.0000 - recall: 0.9994 - val_loss: 1.4112 - val_accuracy: 0.8490 - val_precision: 0.7870 - val_recall: 0.9570\n",
      "Epoch 87/100\n",
      "313/313 [==============================] - 4s 14ms/step - loss: 0.0163 - accuracy: 0.9948 - precision: 0.9954 - recall: 0.9942 - val_loss: 1.4706 - val_accuracy: 0.8405 - val_precision: 0.7784 - val_recall: 0.9520\n",
      "Epoch 88/100\n",
      "313/313 [==============================] - 4s 14ms/step - loss: 0.0229 - accuracy: 0.9928 - precision: 0.9948 - recall: 0.9908 - val_loss: 1.0234 - val_accuracy: 0.8660 - val_precision: 0.8506 - val_recall: 0.8880\n",
      "Epoch 89/100\n",
      "313/313 [==============================] - 4s 14ms/step - loss: 0.0085 - accuracy: 0.9979 - precision: 0.9982 - recall: 0.9976 - val_loss: 1.6883 - val_accuracy: 0.8350 - val_precision: 0.7646 - val_recall: 0.9680\n",
      "Epoch 90/100\n",
      "313/313 [==============================] - 4s 14ms/step - loss: 9.7805e-04 - accuracy: 0.9999 - precision: 1.0000 - recall: 0.9998 - val_loss: 1.9846 - val_accuracy: 0.8165 - val_precision: 0.7396 - val_recall: 0.9770\n",
      "Epoch 91/100\n",
      "313/313 [==============================] - 4s 14ms/step - loss: 0.0078 - accuracy: 0.9971 - precision: 0.9980 - recall: 0.9962 - val_loss: 1.2735 - val_accuracy: 0.8645 - val_precision: 0.8167 - val_recall: 0.9400\n",
      "Epoch 92/100\n",
      "313/313 [==============================] - 4s 14ms/step - loss: 0.0401 - accuracy: 0.9875 - precision: 0.9901 - recall: 0.9848 - val_loss: 1.6641 - val_accuracy: 0.8250 - val_precision: 0.7531 - val_recall: 0.9670\n",
      "Epoch 93/100\n",
      "313/313 [==============================] - 4s 14ms/step - loss: 0.0084 - accuracy: 0.9976 - precision: 0.9984 - recall: 0.9968 - val_loss: 1.7906 - val_accuracy: 0.8165 - val_precision: 0.7452 - val_recall: 0.9620\n",
      "Epoch 94/100\n",
      "313/313 [==============================] - 4s 14ms/step - loss: 0.0079 - accuracy: 0.9976 - precision: 0.9984 - recall: 0.9968 - val_loss: 1.6045 - val_accuracy: 0.8270 - val_precision: 0.7575 - val_recall: 0.9620\n",
      "Epoch 95/100\n",
      "313/313 [==============================] - 4s 14ms/step - loss: 0.0061 - accuracy: 0.9980 - precision: 0.9988 - recall: 0.9972 - val_loss: 1.4262 - val_accuracy: 0.8395 - val_precision: 0.7736 - val_recall: 0.9600\n",
      "Epoch 96/100\n",
      "313/313 [==============================] - 4s 14ms/step - loss: 0.0532 - accuracy: 0.9857 - precision: 0.9872 - recall: 0.9842 - val_loss: 1.6740 - val_accuracy: 0.8215 - val_precision: 0.7471 - val_recall: 0.9720\n",
      "Epoch 97/100\n",
      "313/313 [==============================] - 4s 14ms/step - loss: 0.0030 - accuracy: 0.9992 - precision: 0.9996 - recall: 0.9988 - val_loss: 1.8769 - val_accuracy: 0.8115 - val_precision: 0.7354 - val_recall: 0.9730\n",
      "Epoch 98/100\n",
      "313/313 [==============================] - 4s 14ms/step - loss: 0.0093 - accuracy: 0.9966 - precision: 0.9978 - recall: 0.9954 - val_loss: 1.7304 - val_accuracy: 0.8115 - val_precision: 0.7347 - val_recall: 0.9750\n",
      "Epoch 99/100\n",
      "313/313 [==============================] - 4s 14ms/step - loss: 0.0033 - accuracy: 0.9992 - precision: 0.9994 - recall: 0.9990 - val_loss: 1.7365 - val_accuracy: 0.8270 - val_precision: 0.7543 - val_recall: 0.9700\n",
      "Epoch 100/100\n",
      "313/313 [==============================] - 4s 14ms/step - loss: 0.0051 - accuracy: 0.9987 - precision: 0.9994 - recall: 0.9980 - val_loss: 1.8061 - val_accuracy: 0.8235 - val_precision: 0.7498 - val_recall: 0.9710\n"
     ]
    },
    {
     "data": {
      "text/plain": [
       "<tensorflow.python.keras.callbacks.History at 0x7f89babddba8>"
      ]
     },
     "execution_count": 14,
     "metadata": {},
     "output_type": "execute_result"
    }
   ],
   "source": [
    "model = MyModel()\n",
    "model.compile(optimizer='adam',\n",
    "              loss='binary_crossentropy',\n",
    "              metrics=['accuracy',\n",
    "                       tf.keras.metrics.Precision(name='precision'),\n",
    "                      tf.keras.metrics.Recall(name='recall')])\n",
    "model.fit(train_ds, validation_data=test_ds, epochs=EPOCHS)"
   ]
  },
  {
   "cell_type": "code",
   "execution_count": null,
   "metadata": {},
   "outputs": [],
   "source": []
  }
 ],
 "metadata": {
  "kernelspec": {
   "display_name": "Python 3",
   "language": "python",
   "name": "python3"
  },
  "language_info": {
   "codemirror_mode": {
    "name": "ipython",
    "version": 3
   },
   "file_extension": ".py",
   "mimetype": "text/x-python",
   "name": "python",
   "nbconvert_exporter": "python",
   "pygments_lexer": "ipython3",
   "version": "3.6.9"
  },
  "toc": {
   "base_numbering": 1,
   "nav_menu": {},
   "number_sections": true,
   "sideBar": true,
   "skip_h1_title": false,
   "title_cell": "Table of Contents",
   "title_sidebar": "Contents",
   "toc_cell": false,
   "toc_position": {},
   "toc_section_display": true,
   "toc_window_display": false
  },
  "varInspector": {
   "cols": {
    "lenName": 16,
    "lenType": 16,
    "lenVar": 40
   },
   "kernels_config": {
    "python": {
     "delete_cmd_postfix": "",
     "delete_cmd_prefix": "del ",
     "library": "var_list.py",
     "varRefreshCmd": "print(var_dic_list())"
    },
    "r": {
     "delete_cmd_postfix": ") ",
     "delete_cmd_prefix": "rm(",
     "library": "var_list.r",
     "varRefreshCmd": "cat(var_dic_list()) "
    }
   },
   "types_to_exclude": [
    "module",
    "function",
    "builtin_function_or_method",
    "instance",
    "_Feature"
   ],
   "window_display": false
  }
 },
 "nbformat": 4,
 "nbformat_minor": 2
}
